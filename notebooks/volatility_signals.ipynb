{
 "cells": [
  {
   "cell_type": "code",
   "execution_count": 4,
   "id": "8130dd3a07d70607",
   "metadata": {},
   "outputs": [],
   "source": [
    "import os\n",
    "import sys\n",
    "\n",
    "# Go up one folder from /notebooks to project root\n",
    "sys.path.append(os.path.abspath(\"..\"))\n",
    "\n",
    "from config.load_env import load_keys\n",
    "\n",
    "keys = load_keys()"
   ]
  },
  {
   "cell_type": "code",
   "execution_count": null,
   "id": "9e7714e2",
   "metadata": {},
   "outputs": [],
   "source": []
  }
 ],
 "metadata": {
  "kernelspec": {
   "display_name": "QF635",
   "language": "python",
   "name": "python3"
  },
  "language_info": {
   "codemirror_mode": {
    "name": "ipython",
    "version": 3
   },
   "file_extension": ".py",
   "mimetype": "text/x-python",
   "name": "python",
   "nbconvert_exporter": "python",
   "pygments_lexer": "ipython3",
   "version": "3.12.9"
  }
 },
 "nbformat": 4,
 "nbformat_minor": 5
}
