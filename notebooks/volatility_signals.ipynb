{
 "cells": [
  {
   "metadata": {},
   "cell_type": "code",
   "outputs": [],
   "execution_count": null,
   "source": [
    "from config.load_env import load_keys\n",
    "\n",
    "keys = load_keys()\n",
    "print(keys[\"api_key\"])"
   ],
   "id": "8130dd3a07d70607"
  }
 ],
 "metadata": {},
 "nbformat": 4,
 "nbformat_minor": 5
}
