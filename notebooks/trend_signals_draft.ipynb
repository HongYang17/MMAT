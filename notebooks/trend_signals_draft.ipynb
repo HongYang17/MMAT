{
 "cells": [
  {
   "cell_type": "code",
   "execution_count": 2,
   "id": "ee11418a",
   "metadata": {
    "scrolled": true
   },
   "outputs": [],
   "source": [
    "#!pip install requests pandas"
   ]
  },
  {
   "cell_type": "code",
   "execution_count": 12,
   "id": "3e3cd8c3",
   "metadata": {},
   "outputs": [],
   "source": [
    "import pandas as pd\n",
    "import talib as ta\n",
    "import numpy as np\n",
    "import matplotlib.pyplot as plt\n",
    "from math import sqrt"
   ]
  },
  {
   "cell_type": "code",
   "execution_count": 14,
   "id": "0486e7d5",
   "metadata": {},
   "outputs": [],
   "source": [
    "df = pd.read_csv('BTCUSDT_3min_2024-05-01_to_2025-05-01.csv')\n",
    "df['timestamp'] = pd.to_datetime(df['timestamp'])\n",
    "df.set_index('timestamp', inplace=True)"
   ]
  },
  {
   "cell_type": "code",
   "execution_count": 21,
   "id": "06dd9cb3",
   "metadata": {},
   "outputs": [],
   "source": [
    "# 计算技术指标\n",
    "window = 7\n",
    "df['ADX'] = ta.ADX(df['high'], df['low'], df['close'], window)\n",
    "df['PLUS_DI'] = ta.PLUS_DI(df['high'], df['low'], df['close'], window)\n",
    "df['MINUS_DI'] = ta.MINUS_DI(df['high'], df['low'], df['close'], window)\n",
    "df['EMA20'] = ta.EMA(df['close'], 20)\n",
    "df['SMA50'] = ta.SMA(df['close'], 50)\n",
    "\n",
    "# 定义策略参数\n",
    "strategies = {\n",
    "    'ADX_Strategy': {\n",
    "        'buy_cond': (df['ADX'] > 25) & (df['PLUS_DI'] > df['MINUS_DI']),\n",
    "        'sell_cond': (df['ADX'] < 20)\n",
    "    },\n",
    "    'DI_Strategy': {\n",
    "        'buy_cond': (df['PLUS_DI'] > df['MINUS_DI']),\n",
    "        'sell_cond': (df['PLUS_DI'] < df['MINUS_DI'])\n",
    "    },\n",
    "    'EMA_Strategy': {\n",
    "        'buy_cond': (df['close'] > df['EMA20']),\n",
    "        'sell_cond': (df['close'] < df['EMA20'])\n",
    "    },\n",
    "    'SMA_Strategy': {\n",
    "        'buy_cond': (df['close'] > df['SMA50']),\n",
    "        'sell_cond': (df['close'] < df['SMA50'])\n",
    "    },\n",
    "    'DI_Crossover_Strategy': {\n",
    "        'buy_cond': (df['PLUS_DI'] > 25) & (df['MINUS_DI'] < 20),\n",
    "        'sell_cond': (df['PLUS_DI'] < 20)\n",
    "    }\n",
    "}\n"
   ]
  },
  {
   "cell_type": "code",
   "execution_count": 24,
   "id": "3c9eecad",
   "metadata": {},
   "outputs": [],
   "source": [
    "# 回测引擎函数\n",
    "def backtest_strategy(df, buy_cond, sell_cond, initial=10000):\n",
    "    position = 0\n",
    "    entry_price = 0\n",
    "    portfolio = [initial]\n",
    "    trade_returns = []\n",
    "    peak = initial\n",
    "    max_drawdown = 0\n",
    "    \n",
    "    for i in range(1, len(df)):\n",
    "        # Buy Signal\n",
    "        if buy_cond.iloc[i] and position == 0:\n",
    "            entry_price = df['close'].iloc[i]\n",
    "            position = 1\n",
    "        \n",
    "        # Sell Signal\n",
    "        elif sell_cond.iloc[i] and position == 1:\n",
    "            exit_price = df['close'].iloc[i]\n",
    "            ret = (exit_price - entry_price) / entry_price\n",
    "            trade_returns.append(ret)\n",
    "            portfolio_value = portfolio[-1] * (1 + ret)\n",
    "            portfolio.append(portfolio_value)\n",
    "            position = 0\n",
    "        else:\n",
    "            portfolio.append(portfolio[-1])\n",
    "        \n",
    "        # Update max drawdown\n",
    "        current = portfolio[-1]\n",
    "        if current > peak:\n",
    "            peak = current\n",
    "        drawdown = (peak - current)/peak\n",
    "        if drawdown > max_drawdown:\n",
    "            max_drawdown = drawdown\n",
    "    \n",
    "    # Calculate performance metrics\n",
    "    returns = pd.Series(portfolio).pct_change().dropna()\n",
    "    sharpe = returns.mean() / returns.std() * sqrt(252*24*20)  # 3min data\n",
    "    \n",
    "    return {\n",
    "        'final_value': portfolio[-1],\n",
    "        'total_return': (portfolio[-1]/initial - 1)*100,\n",
    "        'sharpe_ratio': sharpe,\n",
    "        'max_drawdown': max_drawdown*100,\n",
    "        'num_trades': len(trade_returns),\n",
    "        'win_rate': len([r for r in trade_returns if r>0])/len(trade_returns)*100 if trade_returns else 0\n",
    "    }"
   ]
  },
  {
   "cell_type": "code",
   "execution_count": 25,
   "id": "36b03e35",
   "metadata": {},
   "outputs": [
    {
     "name": "stdout",
     "output_type": "stream",
     "text": [
      "\n",
      "策略绩效对比：\n",
      "                           最终价值  总收益率 (%)  夏普比率  最大回撤 (%)     交易次数  胜率 (%)\n",
      "ADX_Strategy           13408.64     34.09  0.73     33.39   2849.0   44.54\n",
      "DI_Strategy             6930.94    -30.69 -0.72     42.55  11363.0   31.91\n",
      "EMA_Strategy            8345.31    -16.55 -0.27     33.65  12458.0   25.54\n",
      "SMA_Strategy           11504.51     15.05  0.48     25.19   6950.0   20.32\n",
      "DI_Crossover_Strategy  10835.06      8.35  0.34     28.13   5781.0   35.01\n"
     ]
    }
   ],
   "source": [
    "# 运行所有策略\n",
    "results = {}\n",
    "for strategy_name, params in strategies.items():\n",
    "    results[strategy_name] = backtest_strategy(\n",
    "        df, \n",
    "        params['buy_cond'], \n",
    "        params['sell_cond']\n",
    "    )\n",
    "\n",
    "# 格式化输出结果\n",
    "result_df = pd.DataFrame(results).T\n",
    "result_df.columns = [\n",
    "    '最终价值', '总收益率 (%)', '夏普比率', \n",
    "    '最大回撤 (%)', '交易次数', '胜率 (%)'\n",
    "]\n",
    "\n",
    "print(\"\\n策略绩效对比：\")\n",
    "print(result_df.round(2))\n",
    "\n"
   ]
  },
  {
   "cell_type": "code",
   "execution_count": null,
   "id": "6b18328d",
   "metadata": {},
   "outputs": [],
   "source": []
  },
  {
   "cell_type": "code",
   "execution_count": null,
   "id": "a98efa76",
   "metadata": {},
   "outputs": [],
   "source": []
  },
  {
   "cell_type": "code",
   "execution_count": null,
   "id": "1dda306d",
   "metadata": {},
   "outputs": [],
   "source": []
  },
  {
   "cell_type": "code",
   "execution_count": null,
   "id": "37b60dbf",
   "metadata": {},
   "outputs": [],
   "source": []
  },
  {
   "cell_type": "code",
   "execution_count": null,
   "id": "87b36c7a",
   "metadata": {},
   "outputs": [],
   "source": []
  },
  {
   "cell_type": "code",
   "execution_count": null,
   "id": "e8f2e9e3",
   "metadata": {},
   "outputs": [],
   "source": []
  },
  {
   "cell_type": "code",
   "execution_count": null,
   "id": "22389d1f",
   "metadata": {},
   "outputs": [],
   "source": []
  },
  {
   "cell_type": "code",
   "execution_count": null,
   "id": "1ec64f79",
   "metadata": {},
   "outputs": [],
   "source": []
  },
  {
   "cell_type": "code",
   "execution_count": null,
   "id": "46e068bf",
   "metadata": {},
   "outputs": [],
   "source": []
  },
  {
   "cell_type": "code",
   "execution_count": null,
   "id": "d8bc69d3",
   "metadata": {},
   "outputs": [],
   "source": []
  },
  {
   "cell_type": "code",
   "execution_count": null,
   "id": "e6d185fc",
   "metadata": {},
   "outputs": [],
   "source": []
  },
  {
   "cell_type": "code",
   "execution_count": null,
   "id": "9f1969e3",
   "metadata": {},
   "outputs": [],
   "source": []
  },
  {
   "cell_type": "code",
   "execution_count": null,
   "id": "69ca855b",
   "metadata": {},
   "outputs": [],
   "source": []
  },
  {
   "cell_type": "code",
   "execution_count": null,
   "id": "02a82cc2",
   "metadata": {},
   "outputs": [],
   "source": []
  },
  {
   "cell_type": "code",
   "execution_count": null,
   "id": "b05d40c0",
   "metadata": {},
   "outputs": [],
   "source": []
  },
  {
   "cell_type": "code",
   "execution_count": null,
   "id": "a8c17af7",
   "metadata": {},
   "outputs": [],
   "source": []
  },
  {
   "cell_type": "code",
   "execution_count": null,
   "id": "36a8add1",
   "metadata": {},
   "outputs": [],
   "source": []
  },
  {
   "cell_type": "code",
   "execution_count": null,
   "id": "8c231c5b",
   "metadata": {},
   "outputs": [],
   "source": []
  },
  {
   "cell_type": "code",
   "execution_count": null,
   "id": "bd239a13",
   "metadata": {},
   "outputs": [],
   "source": []
  },
  {
   "cell_type": "code",
   "execution_count": null,
   "id": "00af36e4",
   "metadata": {},
   "outputs": [],
   "source": []
  },
  {
   "cell_type": "code",
   "execution_count": null,
   "id": "7f41cc1f",
   "metadata": {},
   "outputs": [],
   "source": []
  },
  {
   "cell_type": "code",
   "execution_count": null,
   "id": "210987dd",
   "metadata": {},
   "outputs": [],
   "source": []
  },
  {
   "cell_type": "code",
   "execution_count": null,
   "id": "715db968",
   "metadata": {},
   "outputs": [],
   "source": []
  },
  {
   "cell_type": "code",
   "execution_count": null,
   "id": "1669dd17",
   "metadata": {},
   "outputs": [],
   "source": []
  },
  {
   "cell_type": "code",
   "execution_count": null,
   "id": "0b2fec7a",
   "metadata": {},
   "outputs": [],
   "source": []
  },
  {
   "cell_type": "code",
   "execution_count": null,
   "id": "f827db1a",
   "metadata": {},
   "outputs": [],
   "source": []
  },
  {
   "cell_type": "code",
   "execution_count": null,
   "id": "55477315",
   "metadata": {},
   "outputs": [],
   "source": []
  },
  {
   "cell_type": "code",
   "execution_count": null,
   "id": "e9f290f4",
   "metadata": {},
   "outputs": [],
   "source": []
  },
  {
   "cell_type": "code",
   "execution_count": null,
   "id": "e6ea7151",
   "metadata": {},
   "outputs": [],
   "source": []
  },
  {
   "cell_type": "code",
   "execution_count": null,
   "id": "9f1da65a",
   "metadata": {},
   "outputs": [],
   "source": []
  },
  {
   "cell_type": "code",
   "execution_count": null,
   "id": "2a7d0024",
   "metadata": {},
   "outputs": [],
   "source": []
  },
  {
   "cell_type": "code",
   "execution_count": null,
   "id": "caea905c",
   "metadata": {},
   "outputs": [],
   "source": []
  },
  {
   "cell_type": "code",
   "execution_count": null,
   "id": "d2b264c9",
   "metadata": {},
   "outputs": [],
   "source": []
  },
  {
   "cell_type": "code",
   "execution_count": null,
   "id": "8760305f",
   "metadata": {},
   "outputs": [],
   "source": []
  },
  {
   "cell_type": "code",
   "execution_count": null,
   "id": "34b5620f",
   "metadata": {},
   "outputs": [],
   "source": []
  },
  {
   "cell_type": "code",
   "execution_count": null,
   "id": "f4a13544",
   "metadata": {},
   "outputs": [],
   "source": []
  },
  {
   "cell_type": "code",
   "execution_count": null,
   "id": "9a91d576",
   "metadata": {},
   "outputs": [],
   "source": []
  },
  {
   "cell_type": "code",
   "execution_count": null,
   "id": "ab1e29fc",
   "metadata": {},
   "outputs": [],
   "source": []
  },
  {
   "cell_type": "code",
   "execution_count": null,
   "id": "b25c8ee9",
   "metadata": {},
   "outputs": [],
   "source": []
  },
  {
   "cell_type": "code",
   "execution_count": null,
   "id": "aa6f93d7",
   "metadata": {},
   "outputs": [],
   "source": []
  },
  {
   "cell_type": "code",
   "execution_count": null,
   "id": "01cdab99",
   "metadata": {},
   "outputs": [],
   "source": []
  },
  {
   "cell_type": "code",
   "execution_count": null,
   "id": "0289b24f",
   "metadata": {},
   "outputs": [],
   "source": []
  },
  {
   "cell_type": "code",
   "execution_count": null,
   "id": "83db1681",
   "metadata": {},
   "outputs": [],
   "source": []
  },
  {
   "cell_type": "code",
   "execution_count": null,
   "id": "b99d62d9",
   "metadata": {},
   "outputs": [],
   "source": []
  },
  {
   "cell_type": "code",
   "execution_count": null,
   "id": "ae82a836",
   "metadata": {},
   "outputs": [],
   "source": []
  },
  {
   "cell_type": "code",
   "execution_count": null,
   "id": "114ed355",
   "metadata": {},
   "outputs": [],
   "source": []
  },
  {
   "cell_type": "code",
   "execution_count": null,
   "id": "1075a27b",
   "metadata": {},
   "outputs": [],
   "source": []
  }
 ],
 "metadata": {
  "kernelspec": {
   "display_name": "Python 3 (ipykernel)",
   "language": "python",
   "name": "python3"
  },
  "language_info": {
   "codemirror_mode": {
    "name": "ipython",
    "version": 3
   },
   "file_extension": ".py",
   "mimetype": "text/x-python",
   "name": "python",
   "nbconvert_exporter": "python",
   "pygments_lexer": "ipython3",
   "version": "3.11.9"
  }
 },
 "nbformat": 4,
 "nbformat_minor": 5
}
